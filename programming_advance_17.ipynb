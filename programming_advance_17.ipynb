{
 "cells": [
  {
   "cell_type": "code",
   "execution_count": 5,
   "metadata": {},
   "outputs": [],
   "source": [
    "#1a)\n",
    "def transpose_matrix(mylist):\n",
    "    \n",
    "    x = len(mylist)\n",
    "    y = len(mylist[0])\n",
    "    k = []\n",
    "    for i in range(y):\n",
    "        l = []\n",
    "        for j in range(x):\n",
    "            l.append(mylist[j][i])\n",
    "        k.append(l)  \n",
    "    return k      "
   ]
  },
  {
   "cell_type": "code",
   "execution_count": 6,
   "metadata": {},
   "outputs": [
    {
     "data": {
      "text/plain": [
       "[[5, 6, 9], [5, 7, 1]]"
      ]
     },
     "execution_count": 6,
     "metadata": {},
     "output_type": "execute_result"
    }
   ],
   "source": [
    "transpose_matrix([\n",
    "  [5, 5],\n",
    "  [6, 7],\n",
    "  [9, 1]\n",
    "]) \n"
   ]
  },
  {
   "cell_type": "code",
   "execution_count": 8,
   "metadata": {},
   "outputs": [],
   "source": [
    "#2a)\n",
    "def is_valid_hex_code(string):\n",
    "    if len(string) == 7 and string[0] =='#':\n",
    "        if string[1:].isalpha():\n",
    "            if string.islower() or string.isupper():\n",
    "                 return True\n",
    "    return False    "
   ]
  },
  {
   "cell_type": "code",
   "execution_count": 9,
   "metadata": {},
   "outputs": [
    {
     "data": {
      "text/plain": [
       "False"
      ]
     },
     "execution_count": 9,
     "metadata": {},
     "output_type": "execute_result"
    }
   ],
   "source": [
    "is_valid_hex_code(\"#CD5C58C\") "
   ]
  },
  {
   "cell_type": "code",
   "execution_count": 10,
   "metadata": {},
   "outputs": [
    {
     "data": {
      "text/plain": [
       "True"
      ]
     },
     "execution_count": 10,
     "metadata": {},
     "output_type": "execute_result"
    }
   ],
   "source": [
    "is_valid_hex_code(\"#EAECEE\") "
   ]
  },
  {
   "cell_type": "code",
   "execution_count": 22,
   "metadata": {},
   "outputs": [],
   "source": [
    "#3a)\n",
    "import re\n",
    "def mark_maths(mylist):\n",
    "    l = len(mylist)\n",
    "    p = 0\n",
    "    for i in mylist:\n",
    "       y = re.findall(r'[+-]',i)\n",
    "       x = re.split(\"\\D\",i)\n",
    "       if \"+\" in y:\n",
    "          t = int(x[0]) + int(x[1])\n",
    "          if int(x[2]) == t:\n",
    "            p+=1\n",
    "       if \"-\" in y:\n",
    "          t = int(x[0]) - int(x[1])\n",
    "          if int(x[2]) == t:\n",
    "            p+=1\n",
    "                 \n",
    "    return (p/l)*100  "
   ]
  },
  {
   "cell_type": "code",
   "execution_count": 23,
   "metadata": {
    "scrolled": true
   },
   "outputs": [
    {
     "data": {
      "text/plain": [
       "75.0"
      ]
     },
     "execution_count": 23,
     "metadata": {},
     "output_type": "execute_result"
    }
   ],
   "source": [
    "mark_maths([\"2+2=4\", \"3+2=5\", \"10-3=3\", \"5+5=10\"]) "
   ]
  },
  {
   "cell_type": "code",
   "execution_count": 31,
   "metadata": {},
   "outputs": [],
   "source": [
    "#4a)\n",
    "def even(string):\n",
    "    num = int(string)\n",
    "    summ = 0\n",
    "    while(num): \n",
    "        summ += num%10\n",
    "        num = num//10\n",
    "    if summ%2==0:\n",
    "        #print(\"e\")\n",
    "        return True\n",
    "    else: \n",
    "        #print(\"o\")\n",
    "        return False\n",
    "    \n",
    "def magic_square_game(list1,list2):\n",
    "     if not even(list1[1]) and  even(list2[1]) == True:\n",
    "            #print(\"yes\")\n",
    "            if list1[1][list2[0]-1] == list2[1][list1[0]-1]:\n",
    "                \n",
    "                return True\n",
    "     \n",
    "     return False"
   ]
  },
  {
   "cell_type": "code",
   "execution_count": 32,
   "metadata": {},
   "outputs": [
    {
     "data": {
      "text/plain": [
       "False"
      ]
     },
     "execution_count": 32,
     "metadata": {},
     "output_type": "execute_result"
    }
   ],
   "source": [
    "magic_square_game([2, \"100\"], [1, \"101\"]) "
   ]
  },
  {
   "cell_type": "code",
   "execution_count": 33,
   "metadata": {},
   "outputs": [
    {
     "data": {
      "text/plain": [
       "True"
      ]
     },
     "execution_count": 33,
     "metadata": {},
     "output_type": "execute_result"
    }
   ],
   "source": [
    "magic_square_game([2, \"001\"], [1, \"101\"]) "
   ]
  },
  {
   "cell_type": "code",
   "execution_count": 47,
   "metadata": {},
   "outputs": [],
   "source": [
    "#5a)\n",
    "def lets_meet(dist,va,vb):\n",
    "    v = va+vb\n",
    "    t= dist*60*60//v\n",
    "    l = []\n",
    "    l.append(str(t%60))\n",
    "    l.append(str((t//60)%60)+\"min\")\n",
    "    l.append(str((t//60//60))+\"h\")\n",
    "    return \" \".join(l[::-1])"
   ]
  },
  {
   "cell_type": "code",
   "execution_count": 48,
   "metadata": {},
   "outputs": [
    {
     "data": {
      "text/plain": [
       "'2h 30min 0'"
      ]
     },
     "execution_count": 48,
     "metadata": {},
     "output_type": "execute_result"
    }
   ],
   "source": [
    "lets_meet(100, 10, 30) "
   ]
  },
  {
   "cell_type": "code",
   "execution_count": 49,
   "metadata": {},
   "outputs": [
    {
     "data": {
      "text/plain": [
       "'0h 38min 34'"
      ]
     },
     "execution_count": 49,
     "metadata": {},
     "output_type": "execute_result"
    }
   ],
   "source": [
    "lets_meet(90, 75, 65) "
   ]
  },
  {
   "cell_type": "code",
   "execution_count": 50,
   "metadata": {},
   "outputs": [
    {
     "data": {
      "text/plain": [
       "'1h 52min 0'"
      ]
     },
     "execution_count": 50,
     "metadata": {},
     "output_type": "execute_result"
    }
   ],
   "source": [
    "lets_meet(280, 70, 80)"
   ]
  },
  {
   "cell_type": "code",
   "execution_count": null,
   "metadata": {},
   "outputs": [],
   "source": []
  }
 ],
 "metadata": {
  "kernelspec": {
   "display_name": "Python 3",
   "language": "python",
   "name": "python3"
  },
  "language_info": {
   "codemirror_mode": {
    "name": "ipython",
    "version": 3
   },
   "file_extension": ".py",
   "mimetype": "text/x-python",
   "name": "python",
   "nbconvert_exporter": "python",
   "pygments_lexer": "ipython3",
   "version": "3.8.3"
  }
 },
 "nbformat": 4,
 "nbformat_minor": 4
}
